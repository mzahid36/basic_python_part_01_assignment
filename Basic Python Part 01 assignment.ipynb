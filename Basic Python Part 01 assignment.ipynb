{
 "cells": [
  {
   "cell_type": "markdown",
   "id": "a788d314",
   "metadata": {},
   "source": [
    "\n",
    "# Variables\n"
   ]
  },
  {
   "cell_type": "code",
   "execution_count": 10,
   "id": "19dd2d09",
   "metadata": {},
   "outputs": [
    {
     "name": "stdout",
     "output_type": "stream",
     "text": [
      "Hello\n"
     ]
    }
   ],
   "source": [
    "var = \"Hello\"\n",
    "print(var)"
   ]
  },
  {
   "cell_type": "code",
   "execution_count": 11,
   "id": "f89be566",
   "metadata": {},
   "outputs": [
    {
     "name": "stdout",
     "output_type": "stream",
     "text": [
      "Hey\n"
     ]
    }
   ],
   "source": [
    "_var = \"Hey\" # starting with underscore\n",
    "print(_var)"
   ]
  },
  {
   "cell_type": "code",
   "execution_count": 21,
   "id": "3a1968a0",
   "metadata": {},
   "outputs": [
    {
     "name": "stdout",
     "output_type": "stream",
     "text": [
      "10\n"
     ]
    }
   ],
   "source": [
    "vr2t = 10 #variable mixed with numbers\n",
    "print(vr2t)"
   ]
  },
  {
   "cell_type": "code",
   "execution_count": 12,
   "id": "5fb9b948",
   "metadata": {},
   "outputs": [],
   "source": [
    "myNameVar = \"Zahid\" #camelCaseVar"
   ]
  },
  {
   "cell_type": "code",
   "execution_count": 14,
   "id": "b69a0df9",
   "metadata": {},
   "outputs": [
    {
     "name": "stdout",
     "output_type": "stream",
     "text": [
      "123\n"
     ]
    }
   ],
   "source": [
    "MyIdNo = 123 # PascalCaseVar\n",
    "print(MyIdNo)"
   ]
  },
  {
   "cell_type": "code",
   "execution_count": 15,
   "id": "ee0ac4cd",
   "metadata": {},
   "outputs": [
    {
     "name": "stdout",
     "output_type": "stream",
     "text": [
      "Dhaka\n"
     ]
    }
   ],
   "source": [
    "my_address_is = \"Dhaka\" #snake_case_var\n",
    "print(my_address_is)"
   ]
  },
  {
   "cell_type": "code",
   "execution_count": 16,
   "id": "bb990f0e",
   "metadata": {},
   "outputs": [],
   "source": [
    "name, address, id_no = 'Zahid','Dhaka',123 #multiple variable"
   ]
  },
  {
   "cell_type": "code",
   "execution_count": 17,
   "id": "f1204c77",
   "metadata": {},
   "outputs": [
    {
     "name": "stdout",
     "output_type": "stream",
     "text": [
      "Zahid,Dhaka,123\n"
     ]
    }
   ],
   "source": [
    "print(name,address,id_no,sep=',')"
   ]
  },
  {
   "cell_type": "markdown",
   "id": "9dbd7813",
   "metadata": {},
   "source": [
    "1. Variable cann't satrt with number.\n",
    "2. Varible cann't have special character expect underscore(_)\n",
    "3. Keyword cann't be a variable name\n",
    "4. Variable names are case sensitive\n",
    "5. Variable can contain only alpha numeric key (a-z,0-9)\n"
   ]
  },
  {
   "cell_type": "markdown",
   "id": "de30f412",
   "metadata": {},
   "source": [
    "Global and Local Variable"
   ]
  },
  {
   "cell_type": "code",
   "execution_count": 18,
   "id": "2d38e32c",
   "metadata": {},
   "outputs": [
    {
     "name": "stdout",
     "output_type": "stream",
     "text": [
      "The name of our country is :  Bangladesh\n"
     ]
    }
   ],
   "source": [
    "country = 'Bangladesh'\n",
    "def get_country_name():\n",
    "    print(\"The name of our country is : \",country)\n",
    "get_country_name()"
   ]
  },
  {
   "cell_type": "code",
   "execution_count": 19,
   "id": "b7dc65c8",
   "metadata": {},
   "outputs": [
    {
     "name": "stdout",
     "output_type": "stream",
     "text": [
      "The password is :  12345\n"
     ]
    }
   ],
   "source": [
    "def func():\n",
    "    password = 12345\n",
    "    print(\"The password is : \",password)\n",
    "func()"
   ]
  },
  {
   "cell_type": "code",
   "execution_count": 20,
   "id": "f0b8157c",
   "metadata": {},
   "outputs": [
    {
     "name": "stdout",
     "output_type": "stream",
     "text": [
      "The password is from the function :  12345\n",
      "The password is outside the function :  12345\n"
     ]
    }
   ],
   "source": [
    "def func():\n",
    "    global password\n",
    "    password = 12345\n",
    "    print(\"The password is from the function : \",password)\n",
    "func()\n",
    "print(\"The password is outside the function : \",password)"
   ]
  },
  {
   "cell_type": "markdown",
   "id": "a16c5d16",
   "metadata": {},
   "source": [
    "# Conditions"
   ]
  },
  {
   "cell_type": "code",
   "execution_count": 23,
   "id": "78e19497",
   "metadata": {},
   "outputs": [],
   "source": [
    "x =  5\n",
    "y = 3\n"
   ]
  },
  {
   "cell_type": "code",
   "execution_count": 24,
   "id": "35122bab",
   "metadata": {},
   "outputs": [
    {
     "name": "stdout",
     "output_type": "stream",
     "text": [
      "X is greater than Y.\n"
     ]
    }
   ],
   "source": [
    "if x > y:\n",
    "    print(\"X is greater than Y.\")\n",
    "else:\n",
    "    print(\"Y is greater than X.\")"
   ]
  },
  {
   "cell_type": "code",
   "execution_count": 27,
   "id": "9a7b37ce",
   "metadata": {},
   "outputs": [
    {
     "name": "stdout",
     "output_type": "stream",
     "text": [
      "X is greater than Y\n"
     ]
    }
   ],
   "source": [
    "if x < y:\n",
    "    print(\"X is smaller than Y.\")\n",
    "elif x > y:\n",
    "    print(\"X is greater than Y\")\n",
    "else:\n",
    "    print(\"Y is greater than X.\")"
   ]
  },
  {
   "cell_type": "code",
   "execution_count": 32,
   "id": "4f07767d",
   "metadata": {},
   "outputs": [
    {
     "name": "stdout",
     "output_type": "stream",
     "text": [
      "A-\n"
     ]
    }
   ],
   "source": [
    "marks = 74\n",
    "if marks >= 80:\n",
    "    print(\"A+\")\n",
    "elif marks>=75:\n",
    "    print(\"A\")\n",
    "else:\n",
    "    print(\"A-\")"
   ]
  },
  {
   "cell_type": "markdown",
   "id": "ec695692",
   "metadata": {},
   "source": [
    "# Loops\n"
   ]
  },
  {
   "cell_type": "code",
   "execution_count": 33,
   "id": "39c8a69d",
   "metadata": {},
   "outputs": [
    {
     "name": "stdout",
     "output_type": "stream",
     "text": [
      "apple\n",
      "mango\n",
      "grape\n",
      "pineapple\n",
      "banana\n",
      "watermelon\n"
     ]
    }
   ],
   "source": [
    "lst = ['apple','mango','grape','pineapple','banana','watermelon']\n",
    "\n",
    "for x in lst:\n",
    "    print(x)"
   ]
  },
  {
   "cell_type": "code",
   "execution_count": 34,
   "id": "f17ae5ab",
   "metadata": {},
   "outputs": [
    {
     "name": "stdout",
     "output_type": "stream",
     "text": [
      "0 apple\n",
      "1 mango\n",
      "2 grape\n",
      "3 pineapple\n",
      "4 banana\n",
      "5 watermelon\n"
     ]
    }
   ],
   "source": [
    "for y in range(len(lst)):\n",
    "    print(y,lst[y])"
   ]
  },
  {
   "cell_type": "code",
   "execution_count": 35,
   "id": "bd1be140",
   "metadata": {},
   "outputs": [
    {
     "name": "stdout",
     "output_type": "stream",
     "text": [
      "1\n",
      "3\n",
      "5\n",
      "7\n",
      "9\n"
     ]
    }
   ],
   "source": [
    "for x in range(1,10,2):\n",
    "    print(x)"
   ]
  },
  {
   "cell_type": "code",
   "execution_count": 38,
   "id": "d2619342",
   "metadata": {},
   "outputs": [
    {
     "name": "stdout",
     "output_type": "stream",
     "text": [
      "10\n",
      "9\n",
      "8\n",
      "7\n",
      "6\n",
      "5\n",
      "4\n",
      "3\n",
      "2\n",
      "1\n"
     ]
    }
   ],
   "source": [
    "for x in range(10,0,-1):\n",
    "    print(x)"
   ]
  },
  {
   "cell_type": "code",
   "execution_count": 47,
   "id": "f52752b0",
   "metadata": {},
   "outputs": [
    {
     "name": "stdout",
     "output_type": "stream",
     "text": [
      "1\n",
      "3\n",
      "5\n",
      "7\n",
      "9\n"
     ]
    }
   ],
   "source": [
    "i=1\n",
    "\n",
    "while i<=10:\n",
    "    print(i)\n",
    "    i=i+2"
   ]
  },
  {
   "cell_type": "code",
   "execution_count": 48,
   "id": "24567726",
   "metadata": {},
   "outputs": [
    {
     "name": "stdout",
     "output_type": "stream",
     "text": [
      "10\n",
      "9\n",
      "8\n",
      "7\n",
      "6\n",
      "5\n",
      "4\n",
      "3\n",
      "2\n",
      "1\n"
     ]
    }
   ],
   "source": [
    "j = 10\n",
    "while j>=1:\n",
    "    print(j)\n",
    "    j=j-1"
   ]
  },
  {
   "cell_type": "code",
   "execution_count": null,
   "id": "41b1da42",
   "metadata": {},
   "outputs": [],
   "source": []
  }
 ],
 "metadata": {
  "kernelspec": {
   "display_name": "Python 3 (ipykernel)",
   "language": "python",
   "name": "python3"
  },
  "language_info": {
   "codemirror_mode": {
    "name": "ipython",
    "version": 3
   },
   "file_extension": ".py",
   "mimetype": "text/x-python",
   "name": "python",
   "nbconvert_exporter": "python",
   "pygments_lexer": "ipython3",
   "version": "3.9.12"
  }
 },
 "nbformat": 4,
 "nbformat_minor": 5
}
