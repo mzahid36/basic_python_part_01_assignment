{
 "cells": [
  {
   "cell_type": "code",
   "execution_count": 1,
   "id": "4d937491",
   "metadata": {},
   "outputs": [],
   "source": [
    "import pandas as pd"
   ]
  },
  {
   "cell_type": "code",
   "execution_count": 2,
   "id": "decebd4c",
   "metadata": {},
   "outputs": [],
   "source": [
    "df = pd.read_csv(\"insurance.csv\")"
   ]
  },
  {
   "cell_type": "code",
   "execution_count": 3,
   "id": "6cc157c7",
   "metadata": {},
   "outputs": [
    {
     "data": {
      "text/html": [
       "<div>\n",
       "<style scoped>\n",
       "    .dataframe tbody tr th:only-of-type {\n",
       "        vertical-align: middle;\n",
       "    }\n",
       "\n",
       "    .dataframe tbody tr th {\n",
       "        vertical-align: top;\n",
       "    }\n",
       "\n",
       "    .dataframe thead th {\n",
       "        text-align: right;\n",
       "    }\n",
       "</style>\n",
       "<table border=\"1\" class=\"dataframe\">\n",
       "  <thead>\n",
       "    <tr style=\"text-align: right;\">\n",
       "      <th></th>\n",
       "      <th>age</th>\n",
       "      <th>sex</th>\n",
       "      <th>bmi</th>\n",
       "      <th>children</th>\n",
       "      <th>smoker</th>\n",
       "      <th>region</th>\n",
       "      <th>charges</th>\n",
       "    </tr>\n",
       "  </thead>\n",
       "  <tbody>\n",
       "    <tr>\n",
       "      <th>0</th>\n",
       "      <td>19</td>\n",
       "      <td>female</td>\n",
       "      <td>27.900</td>\n",
       "      <td>0</td>\n",
       "      <td>yes</td>\n",
       "      <td>southwest</td>\n",
       "      <td>16884.92400</td>\n",
       "    </tr>\n",
       "    <tr>\n",
       "      <th>1</th>\n",
       "      <td>18</td>\n",
       "      <td>male</td>\n",
       "      <td>33.770</td>\n",
       "      <td>1</td>\n",
       "      <td>no</td>\n",
       "      <td>southeast</td>\n",
       "      <td>1725.55230</td>\n",
       "    </tr>\n",
       "    <tr>\n",
       "      <th>2</th>\n",
       "      <td>28</td>\n",
       "      <td>male</td>\n",
       "      <td>33.000</td>\n",
       "      <td>3</td>\n",
       "      <td>no</td>\n",
       "      <td>southeast</td>\n",
       "      <td>4449.46200</td>\n",
       "    </tr>\n",
       "    <tr>\n",
       "      <th>3</th>\n",
       "      <td>33</td>\n",
       "      <td>male</td>\n",
       "      <td>22.705</td>\n",
       "      <td>0</td>\n",
       "      <td>no</td>\n",
       "      <td>northwest</td>\n",
       "      <td>21984.47061</td>\n",
       "    </tr>\n",
       "    <tr>\n",
       "      <th>4</th>\n",
       "      <td>32</td>\n",
       "      <td>male</td>\n",
       "      <td>28.880</td>\n",
       "      <td>0</td>\n",
       "      <td>no</td>\n",
       "      <td>northwest</td>\n",
       "      <td>3866.85520</td>\n",
       "    </tr>\n",
       "  </tbody>\n",
       "</table>\n",
       "</div>"
      ],
      "text/plain": [
       "   age     sex     bmi  children smoker     region      charges\n",
       "0   19  female  27.900         0    yes  southwest  16884.92400\n",
       "1   18    male  33.770         1     no  southeast   1725.55230\n",
       "2   28    male  33.000         3     no  southeast   4449.46200\n",
       "3   33    male  22.705         0     no  northwest  21984.47061\n",
       "4   32    male  28.880         0     no  northwest   3866.85520"
      ]
     },
     "execution_count": 3,
     "metadata": {},
     "output_type": "execute_result"
    }
   ],
   "source": [
    "df.head()"
   ]
  },
  {
   "cell_type": "code",
   "execution_count": 4,
   "id": "0be0969b",
   "metadata": {},
   "outputs": [
    {
     "data": {
      "text/plain": [
       "age         0\n",
       "sex         0\n",
       "bmi         0\n",
       "children    0\n",
       "smoker      0\n",
       "region      0\n",
       "charges     0\n",
       "dtype: int64"
      ]
     },
     "execution_count": 4,
     "metadata": {},
     "output_type": "execute_result"
    }
   ],
   "source": [
    "df.isnull().sum()"
   ]
  },
  {
   "cell_type": "code",
   "execution_count": 5,
   "id": "b73e3716",
   "metadata": {},
   "outputs": [
    {
     "data": {
      "text/plain": [
       "(1338, 7)"
      ]
     },
     "execution_count": 5,
     "metadata": {},
     "output_type": "execute_result"
    }
   ],
   "source": [
    "df.shape"
   ]
  },
  {
   "cell_type": "markdown",
   "id": "231410d4",
   "metadata": {},
   "source": [
    "# encoding non-numeric values"
   ]
  },
  {
   "cell_type": "code",
   "execution_count": 6,
   "id": "3f030922",
   "metadata": {},
   "outputs": [],
   "source": [
    "from pandas.core.dtypes.common import is_numeric_dtype"
   ]
  },
  {
   "cell_type": "code",
   "execution_count": 7,
   "id": "d717154f",
   "metadata": {},
   "outputs": [],
   "source": [
    "from sklearn.preprocessing import LabelEncoder\n",
    "import warnings\n",
    "warnings.filterwarnings('ignore')"
   ]
  },
  {
   "cell_type": "code",
   "execution_count": 8,
   "id": "b832adbc",
   "metadata": {},
   "outputs": [],
   "source": [
    "le = LabelEncoder()"
   ]
  },
  {
   "cell_type": "code",
   "execution_count": 9,
   "id": "086b3b11",
   "metadata": {},
   "outputs": [
    {
     "data": {
      "text/html": [
       "<div>\n",
       "<style scoped>\n",
       "    .dataframe tbody tr th:only-of-type {\n",
       "        vertical-align: middle;\n",
       "    }\n",
       "\n",
       "    .dataframe tbody tr th {\n",
       "        vertical-align: top;\n",
       "    }\n",
       "\n",
       "    .dataframe thead th {\n",
       "        text-align: right;\n",
       "    }\n",
       "</style>\n",
       "<table border=\"1\" class=\"dataframe\">\n",
       "  <thead>\n",
       "    <tr style=\"text-align: right;\">\n",
       "      <th></th>\n",
       "      <th>age</th>\n",
       "      <th>sex</th>\n",
       "      <th>bmi</th>\n",
       "      <th>children</th>\n",
       "      <th>smoker</th>\n",
       "      <th>region</th>\n",
       "      <th>charges</th>\n",
       "    </tr>\n",
       "  </thead>\n",
       "  <tbody>\n",
       "    <tr>\n",
       "      <th>0</th>\n",
       "      <td>19</td>\n",
       "      <td>0</td>\n",
       "      <td>27.900</td>\n",
       "      <td>0</td>\n",
       "      <td>1</td>\n",
       "      <td>3</td>\n",
       "      <td>16884.92400</td>\n",
       "    </tr>\n",
       "    <tr>\n",
       "      <th>1</th>\n",
       "      <td>18</td>\n",
       "      <td>1</td>\n",
       "      <td>33.770</td>\n",
       "      <td>1</td>\n",
       "      <td>0</td>\n",
       "      <td>2</td>\n",
       "      <td>1725.55230</td>\n",
       "    </tr>\n",
       "    <tr>\n",
       "      <th>2</th>\n",
       "      <td>28</td>\n",
       "      <td>1</td>\n",
       "      <td>33.000</td>\n",
       "      <td>3</td>\n",
       "      <td>0</td>\n",
       "      <td>2</td>\n",
       "      <td>4449.46200</td>\n",
       "    </tr>\n",
       "    <tr>\n",
       "      <th>3</th>\n",
       "      <td>33</td>\n",
       "      <td>1</td>\n",
       "      <td>22.705</td>\n",
       "      <td>0</td>\n",
       "      <td>0</td>\n",
       "      <td>1</td>\n",
       "      <td>21984.47061</td>\n",
       "    </tr>\n",
       "    <tr>\n",
       "      <th>4</th>\n",
       "      <td>32</td>\n",
       "      <td>1</td>\n",
       "      <td>28.880</td>\n",
       "      <td>0</td>\n",
       "      <td>0</td>\n",
       "      <td>1</td>\n",
       "      <td>3866.85520</td>\n",
       "    </tr>\n",
       "  </tbody>\n",
       "</table>\n",
       "</div>"
      ],
      "text/plain": [
       "   age  sex     bmi  children  smoker  region      charges\n",
       "0   19    0  27.900         0       1       3  16884.92400\n",
       "1   18    1  33.770         1       0       2   1725.55230\n",
       "2   28    1  33.000         3       0       2   4449.46200\n",
       "3   33    1  22.705         0       0       1  21984.47061\n",
       "4   32    1  28.880         0       0       1   3866.85520"
      ]
     },
     "execution_count": 9,
     "metadata": {},
     "output_type": "execute_result"
    }
   ],
   "source": [
    "for x in df.columns:\n",
    "    if is_numeric_dtype(df[x]):\n",
    "        continue\n",
    "    else:\n",
    "        df[x] = le.fit_transform(df[[x]])\n",
    "df.head()"
   ]
  },
  {
   "cell_type": "code",
   "execution_count": 10,
   "id": "6cbd6125",
   "metadata": {},
   "outputs": [],
   "source": [
    "x = df.drop(['charges'],axis=1)"
   ]
  },
  {
   "cell_type": "code",
   "execution_count": 11,
   "id": "3b441f46",
   "metadata": {},
   "outputs": [
    {
     "data": {
      "text/html": [
       "<div>\n",
       "<style scoped>\n",
       "    .dataframe tbody tr th:only-of-type {\n",
       "        vertical-align: middle;\n",
       "    }\n",
       "\n",
       "    .dataframe tbody tr th {\n",
       "        vertical-align: top;\n",
       "    }\n",
       "\n",
       "    .dataframe thead th {\n",
       "        text-align: right;\n",
       "    }\n",
       "</style>\n",
       "<table border=\"1\" class=\"dataframe\">\n",
       "  <thead>\n",
       "    <tr style=\"text-align: right;\">\n",
       "      <th></th>\n",
       "      <th>age</th>\n",
       "      <th>sex</th>\n",
       "      <th>bmi</th>\n",
       "      <th>children</th>\n",
       "      <th>smoker</th>\n",
       "      <th>region</th>\n",
       "    </tr>\n",
       "  </thead>\n",
       "  <tbody>\n",
       "    <tr>\n",
       "      <th>0</th>\n",
       "      <td>19</td>\n",
       "      <td>0</td>\n",
       "      <td>27.900</td>\n",
       "      <td>0</td>\n",
       "      <td>1</td>\n",
       "      <td>3</td>\n",
       "    </tr>\n",
       "    <tr>\n",
       "      <th>1</th>\n",
       "      <td>18</td>\n",
       "      <td>1</td>\n",
       "      <td>33.770</td>\n",
       "      <td>1</td>\n",
       "      <td>0</td>\n",
       "      <td>2</td>\n",
       "    </tr>\n",
       "    <tr>\n",
       "      <th>2</th>\n",
       "      <td>28</td>\n",
       "      <td>1</td>\n",
       "      <td>33.000</td>\n",
       "      <td>3</td>\n",
       "      <td>0</td>\n",
       "      <td>2</td>\n",
       "    </tr>\n",
       "    <tr>\n",
       "      <th>3</th>\n",
       "      <td>33</td>\n",
       "      <td>1</td>\n",
       "      <td>22.705</td>\n",
       "      <td>0</td>\n",
       "      <td>0</td>\n",
       "      <td>1</td>\n",
       "    </tr>\n",
       "    <tr>\n",
       "      <th>4</th>\n",
       "      <td>32</td>\n",
       "      <td>1</td>\n",
       "      <td>28.880</td>\n",
       "      <td>0</td>\n",
       "      <td>0</td>\n",
       "      <td>1</td>\n",
       "    </tr>\n",
       "  </tbody>\n",
       "</table>\n",
       "</div>"
      ],
      "text/plain": [
       "   age  sex     bmi  children  smoker  region\n",
       "0   19    0  27.900         0       1       3\n",
       "1   18    1  33.770         1       0       2\n",
       "2   28    1  33.000         3       0       2\n",
       "3   33    1  22.705         0       0       1\n",
       "4   32    1  28.880         0       0       1"
      ]
     },
     "execution_count": 11,
     "metadata": {},
     "output_type": "execute_result"
    }
   ],
   "source": [
    "x.head()"
   ]
  },
  {
   "cell_type": "code",
   "execution_count": 12,
   "id": "bfcdaa1e",
   "metadata": {},
   "outputs": [],
   "source": [
    "y = df[['charges']]"
   ]
  },
  {
   "cell_type": "code",
   "execution_count": 13,
   "id": "f03156a8",
   "metadata": {},
   "outputs": [
    {
     "data": {
      "text/html": [
       "<div>\n",
       "<style scoped>\n",
       "    .dataframe tbody tr th:only-of-type {\n",
       "        vertical-align: middle;\n",
       "    }\n",
       "\n",
       "    .dataframe tbody tr th {\n",
       "        vertical-align: top;\n",
       "    }\n",
       "\n",
       "    .dataframe thead th {\n",
       "        text-align: right;\n",
       "    }\n",
       "</style>\n",
       "<table border=\"1\" class=\"dataframe\">\n",
       "  <thead>\n",
       "    <tr style=\"text-align: right;\">\n",
       "      <th></th>\n",
       "      <th>charges</th>\n",
       "    </tr>\n",
       "  </thead>\n",
       "  <tbody>\n",
       "    <tr>\n",
       "      <th>0</th>\n",
       "      <td>16884.92400</td>\n",
       "    </tr>\n",
       "    <tr>\n",
       "      <th>1</th>\n",
       "      <td>1725.55230</td>\n",
       "    </tr>\n",
       "    <tr>\n",
       "      <th>2</th>\n",
       "      <td>4449.46200</td>\n",
       "    </tr>\n",
       "    <tr>\n",
       "      <th>3</th>\n",
       "      <td>21984.47061</td>\n",
       "    </tr>\n",
       "    <tr>\n",
       "      <th>4</th>\n",
       "      <td>3866.85520</td>\n",
       "    </tr>\n",
       "  </tbody>\n",
       "</table>\n",
       "</div>"
      ],
      "text/plain": [
       "       charges\n",
       "0  16884.92400\n",
       "1   1725.55230\n",
       "2   4449.46200\n",
       "3  21984.47061\n",
       "4   3866.85520"
      ]
     },
     "execution_count": 13,
     "metadata": {},
     "output_type": "execute_result"
    }
   ],
   "source": [
    "y.head()"
   ]
  },
  {
   "cell_type": "code",
   "execution_count": 14,
   "id": "c7f53ded",
   "metadata": {},
   "outputs": [],
   "source": [
    "from sklearn.model_selection import train_test_split"
   ]
  },
  {
   "cell_type": "code",
   "execution_count": 15,
   "id": "9075a6bc",
   "metadata": {},
   "outputs": [],
   "source": [
    "xtrain, xtest, ytrain, ytest = train_test_split(x,y, test_size=.20, random_state=1)"
   ]
  },
  {
   "cell_type": "code",
   "execution_count": 16,
   "id": "e9bb5b95",
   "metadata": {},
   "outputs": [],
   "source": [
    "from sklearn.linear_model import LinearRegression"
   ]
  },
  {
   "cell_type": "code",
   "execution_count": 17,
   "id": "e40885ea",
   "metadata": {},
   "outputs": [],
   "source": [
    "lreg = LinearRegression()"
   ]
  },
  {
   "cell_type": "code",
   "execution_count": 18,
   "id": "5aaf96a6",
   "metadata": {},
   "outputs": [
    {
     "data": {
      "text/plain": [
       "LinearRegression()"
      ]
     },
     "execution_count": 18,
     "metadata": {},
     "output_type": "execute_result"
    }
   ],
   "source": [
    "lreg.fit(xtrain, ytrain)  #taining the model"
   ]
  },
  {
   "cell_type": "code",
   "execution_count": 19,
   "id": "8a33ff26",
   "metadata": {},
   "outputs": [
    {
     "data": {
      "text/plain": [
       "array([[ 4312.08656955],\n",
       "       [12859.49737555],\n",
       "       [12370.50358911],\n",
       "       [13549.5511475 ],\n",
       "       [  410.55490166],\n",
       "       [32052.76977091],\n",
       "       [13170.26923221],\n",
       "       [12248.5052133 ],\n",
       "       [ 3713.54941225],\n",
       "       [29760.32281711],\n",
       "       [11338.50159148],\n",
       "       [17269.6492891 ],\n",
       "       [ 8961.13430709],\n",
       "       [ 8184.25429812],\n",
       "       [ 3376.85292436],\n",
       "       [10278.37012511],\n",
       "       [ 3883.36513262],\n",
       "       [ 6793.01504696],\n",
       "       [15270.57009799],\n",
       "       [14255.67564306],\n",
       "       [12438.83818074],\n",
       "       [33176.73034139],\n",
       "       [ 9068.32669468],\n",
       "       [ 8835.62475682],\n",
       "       [ 2922.83938461],\n",
       "       [ 8155.7017465 ],\n",
       "       [ 9497.57563203],\n",
       "       [11015.04509043],\n",
       "       [ 7503.17666222],\n",
       "       [ 4307.99883589],\n",
       "       [13939.03683704],\n",
       "       [ 5657.88640469],\n",
       "       [34592.37757194],\n",
       "       [26941.6112407 ],\n",
       "       [33661.91509295],\n",
       "       [ 9552.53576302],\n",
       "       [30183.50964412],\n",
       "       [26485.52800009],\n",
       "       [15397.47566838],\n",
       "       [33857.57796843],\n",
       "       [ 6575.23382913],\n",
       "       [14015.49951905],\n",
       "       [11034.83628114],\n",
       "       [14878.37537422],\n",
       "       [ 4056.87355672],\n",
       "       [13036.25142266],\n",
       "       [ 4582.39598034],\n",
       "       [28857.50476848],\n",
       "       [ 7305.25026916],\n",
       "       [14215.34197814],\n",
       "       [13570.38542044],\n",
       "       [12171.25378059],\n",
       "       [ 1860.5537778 ],\n",
       "       [ 8743.00482524],\n",
       "       [25989.68277284],\n",
       "       [10318.04975471],\n",
       "       [34486.04416316],\n",
       "       [14338.30219512],\n",
       "       [ 3181.55608612],\n",
       "       [ 6080.26510845],\n",
       "       [ 6805.93170349],\n",
       "       [14850.7770469 ],\n",
       "       [27218.86704763],\n",
       "       [ 3253.69992296],\n",
       "       [15670.34534562],\n",
       "       [11189.05910351],\n",
       "       [11134.10274131],\n",
       "       [10803.39805584],\n",
       "       [ 1526.35969822],\n",
       "       [25214.68574313],\n",
       "       [37501.02981236],\n",
       "       [32970.61746419],\n",
       "       [ 1806.14883018],\n",
       "       [11381.38266567],\n",
       "       [13670.64910201],\n",
       "       [34834.70308328],\n",
       "       [ 3182.15958674],\n",
       "       [ 4170.13558842],\n",
       "       [10218.42642933],\n",
       "       [10445.94054979],\n",
       "       [  -81.47899342],\n",
       "       [14040.85062666],\n",
       "       [10358.75515028],\n",
       "       [ 2977.94382045],\n",
       "       [33372.19998048],\n",
       "       [33274.98619064],\n",
       "       [ 7018.44717911],\n",
       "       [37901.71133648],\n",
       "       [12763.51814323],\n",
       "       [10278.96809524],\n",
       "       [30086.92830343],\n",
       "       [33949.44276786],\n",
       "       [15034.31423076],\n",
       "       [11080.69263853],\n",
       "       [  241.21414315],\n",
       "       [10847.73730886],\n",
       "       [ 9498.12889138],\n",
       "       [15220.69439026],\n",
       "       [14918.33910586],\n",
       "       [ 6038.27994848],\n",
       "       [13637.75239824],\n",
       "       [26035.2081038 ],\n",
       "       [27985.82144936],\n",
       "       [27187.79677414],\n",
       "       [35652.31039868],\n",
       "       [27080.54001363],\n",
       "       [  482.8002086 ],\n",
       "       [ 9092.08453479],\n",
       "       [ 4934.54527887],\n",
       "       [12379.61714579],\n",
       "       [ 5635.21132763],\n",
       "       [ 5088.7470156 ],\n",
       "       [ 1049.40205133],\n",
       "       [18727.39461522],\n",
       "       [ 3260.57785266],\n",
       "       [ 1498.81612309],\n",
       "       [11488.86566623],\n",
       "       [12616.47074155],\n",
       "       [11736.9649684 ],\n",
       "       [ 3676.96860592],\n",
       "       [ 8764.85785774],\n",
       "       [13804.05341753],\n",
       "       [ 8015.30902207],\n",
       "       [ 6448.7055193 ],\n",
       "       [36941.0778145 ],\n",
       "       [11982.44929993],\n",
       "       [12209.48808911],\n",
       "       [29612.82776442],\n",
       "       [36276.58800068],\n",
       "       [11420.38054514],\n",
       "       [28322.23768328],\n",
       "       [ -546.59246324],\n",
       "       [ 8189.23941751],\n",
       "       [31842.20934743],\n",
       "       [ 8118.64544653],\n",
       "       [ -809.04011247],\n",
       "       [ 1169.13359329],\n",
       "       [ 4834.23860021],\n",
       "       [ 7653.06450448],\n",
       "       [12463.48816569],\n",
       "       [14784.38390755],\n",
       "       [ 8965.17519559],\n",
       "       [29219.84637633],\n",
       "       [15975.11348569],\n",
       "       [14606.73218512],\n",
       "       [11116.21791282],\n",
       "       [ 2194.77177211],\n",
       "       [ 9885.01524527],\n",
       "       [ 4031.70569207],\n",
       "       [ 6193.75146003],\n",
       "       [11641.24813701],\n",
       "       [ 5475.96194012],\n",
       "       [14523.9850806 ],\n",
       "       [13600.04390773],\n",
       "       [12919.59507942],\n",
       "       [ 6866.02502751],\n",
       "       [12293.73260075],\n",
       "       [10856.95409732],\n",
       "       [10207.49192487],\n",
       "       [ 4326.8515678 ],\n",
       "       [ 5930.03964571],\n",
       "       [40634.18158191],\n",
       "       [13347.21405989],\n",
       "       [ 4126.77193551],\n",
       "       [ 8398.99962478],\n",
       "       [ 4913.40053336],\n",
       "       [32442.96043116],\n",
       "       [11099.14173935],\n",
       "       [10817.0841391 ],\n",
       "       [ 6818.7976668 ],\n",
       "       [ 6268.40376743],\n",
       "       [ 6639.07980141],\n",
       "       [33047.27084751],\n",
       "       [34902.3894635 ],\n",
       "       [ 2190.4602542 ],\n",
       "       [ 7597.40325082],\n",
       "       [ 4991.15682567],\n",
       "       [15456.58393065],\n",
       "       [ 1462.05563226],\n",
       "       [11639.30115426],\n",
       "       [13365.51316303],\n",
       "       [11473.2140089 ],\n",
       "       [10530.82979747],\n",
       "       [13059.5326185 ],\n",
       "       [ 2415.92969062],\n",
       "       [27802.32918662],\n",
       "       [ 2643.00177306],\n",
       "       [14947.11359695],\n",
       "       [ 6339.58109309],\n",
       "       [10524.41143354],\n",
       "       [14955.50048238],\n",
       "       [39062.99638052],\n",
       "       [ 1979.8141267 ],\n",
       "       [ 1496.42681273],\n",
       "       [ 5224.51873387],\n",
       "       [ 7447.4584109 ],\n",
       "       [ 8216.10746713],\n",
       "       [ 4436.67113366],\n",
       "       [10715.39290581],\n",
       "       [ 9247.61451934],\n",
       "       [ 9654.13183065],\n",
       "       [10890.64991464],\n",
       "       [10214.42092106],\n",
       "       [ 9515.68039613],\n",
       "       [ 8063.28983308],\n",
       "       [ 1195.02989086],\n",
       "       [10024.28605762],\n",
       "       [ 7626.34698431],\n",
       "       [ 6457.23895447],\n",
       "       [11547.72422566],\n",
       "       [ 5330.56996465],\n",
       "       [33191.71875446],\n",
       "       [ 6983.08892975],\n",
       "       [ 6106.67551691],\n",
       "       [ 7725.53588912],\n",
       "       [38764.50111821],\n",
       "       [11865.90507033],\n",
       "       [28582.48917928],\n",
       "       [ 3134.2390104 ],\n",
       "       [33013.28212939],\n",
       "       [ 3588.53496976],\n",
       "       [31911.29944447],\n",
       "       [13801.38754275],\n",
       "       [ 2705.29956189],\n",
       "       [ 1887.522845  ],\n",
       "       [ 1118.95409013],\n",
       "       [ 6084.69918595],\n",
       "       [ 4256.08466873],\n",
       "       [25384.0733468 ],\n",
       "       [15994.37095135],\n",
       "       [ 5298.25383106],\n",
       "       [13356.97649084],\n",
       "       [39151.57210732],\n",
       "       [ 4785.65760543],\n",
       "       [12646.75041956],\n",
       "       [11165.47656805],\n",
       "       [27790.56907972],\n",
       "       [ 2755.57652416],\n",
       "       [13248.62111809],\n",
       "       [ 6014.94465948],\n",
       "       [15395.98010219],\n",
       "       [ 5989.53577299],\n",
       "       [16812.99857766],\n",
       "       [ 4162.44552506],\n",
       "       [12472.86064466],\n",
       "       [34628.8378258 ],\n",
       "       [10928.99314777],\n",
       "       [10419.58120782],\n",
       "       [ 5146.33432486],\n",
       "       [16671.10975524],\n",
       "       [14339.82892021],\n",
       "       [ 5427.24655082],\n",
       "       [11475.43592163],\n",
       "       [12781.49228219],\n",
       "       [ 4533.11771097],\n",
       "       [ 7008.05601983],\n",
       "       [27523.08147582],\n",
       "       [32149.80469763],\n",
       "       [ -447.24222308],\n",
       "       [40172.29289106],\n",
       "       [ 9698.36830443],\n",
       "       [ 7755.19384462],\n",
       "       [10945.91191704],\n",
       "       [33330.12756132],\n",
       "       [35851.35034427],\n",
       "       [36871.78109155],\n",
       "       [ 4885.66441598],\n",
       "       [ 6051.92303465]])"
      ]
     },
     "execution_count": 19,
     "metadata": {},
     "output_type": "execute_result"
    }
   ],
   "source": [
    "lreg.predict(xtest)"
   ]
  },
  {
   "cell_type": "code",
   "execution_count": 20,
   "id": "6b387af2",
   "metadata": {},
   "outputs": [
    {
     "data": {
      "text/plain": [
       "0.7623224022563388"
      ]
     },
     "execution_count": 20,
     "metadata": {},
     "output_type": "execute_result"
    }
   ],
   "source": [
    "lreg.score(xtest,ytest)"
   ]
  },
  {
   "cell_type": "code",
   "execution_count": 21,
   "id": "df10143e",
   "metadata": {},
   "outputs": [],
   "source": [
    "from sklearn.metrics import r2_score"
   ]
  },
  {
   "cell_type": "code",
   "execution_count": 22,
   "id": "21233663",
   "metadata": {},
   "outputs": [],
   "source": [
    "score = r2_score(ytest, lreg.predict(xtest))"
   ]
  },
  {
   "cell_type": "code",
   "execution_count": 23,
   "id": "d85ef8f4",
   "metadata": {},
   "outputs": [
    {
     "data": {
      "text/plain": [
       "0.7623224022563388"
      ]
     },
     "execution_count": 23,
     "metadata": {},
     "output_type": "execute_result"
    }
   ],
   "source": [
    "score"
   ]
  },
  {
   "cell_type": "code",
   "execution_count": 24,
   "id": "c45b09c3",
   "metadata": {},
   "outputs": [],
   "source": [
    "ytest['predicted'] = lreg.predict(xtest)"
   ]
  },
  {
   "cell_type": "code",
   "execution_count": 25,
   "id": "ce2f2d20",
   "metadata": {},
   "outputs": [
    {
     "data": {
      "text/html": [
       "<div>\n",
       "<style scoped>\n",
       "    .dataframe tbody tr th:only-of-type {\n",
       "        vertical-align: middle;\n",
       "    }\n",
       "\n",
       "    .dataframe tbody tr th {\n",
       "        vertical-align: top;\n",
       "    }\n",
       "\n",
       "    .dataframe thead th {\n",
       "        text-align: right;\n",
       "    }\n",
       "</style>\n",
       "<table border=\"1\" class=\"dataframe\">\n",
       "  <thead>\n",
       "    <tr style=\"text-align: right;\">\n",
       "      <th></th>\n",
       "      <th>charges</th>\n",
       "      <th>predicted</th>\n",
       "    </tr>\n",
       "  </thead>\n",
       "  <tbody>\n",
       "    <tr>\n",
       "      <th>559</th>\n",
       "      <td>1646.4297</td>\n",
       "      <td>4312.086570</td>\n",
       "    </tr>\n",
       "    <tr>\n",
       "      <th>1087</th>\n",
       "      <td>11353.2276</td>\n",
       "      <td>12859.497376</td>\n",
       "    </tr>\n",
       "    <tr>\n",
       "      <th>1020</th>\n",
       "      <td>8798.5930</td>\n",
       "      <td>12370.503589</td>\n",
       "    </tr>\n",
       "    <tr>\n",
       "      <th>460</th>\n",
       "      <td>10381.4787</td>\n",
       "      <td>13549.551148</td>\n",
       "    </tr>\n",
       "    <tr>\n",
       "      <th>802</th>\n",
       "      <td>2103.0800</td>\n",
       "      <td>410.554902</td>\n",
       "    </tr>\n",
       "  </tbody>\n",
       "</table>\n",
       "</div>"
      ],
      "text/plain": [
       "         charges     predicted\n",
       "559    1646.4297   4312.086570\n",
       "1087  11353.2276  12859.497376\n",
       "1020   8798.5930  12370.503589\n",
       "460   10381.4787  13549.551148\n",
       "802    2103.0800    410.554902"
      ]
     },
     "execution_count": 25,
     "metadata": {},
     "output_type": "execute_result"
    }
   ],
   "source": [
    "ytest.head()"
   ]
  },
  {
   "cell_type": "code",
   "execution_count": 26,
   "id": "a3e1d7a6",
   "metadata": {},
   "outputs": [
    {
     "name": "stdout",
     "output_type": "stream",
     "text": [
      "[[  258.01557886  -244.31610607   315.08300514   412.23885375\n",
      "  23766.9743197   -330.62676068]]\n"
     ]
    }
   ],
   "source": [
    "print(lreg.coef_)"
   ]
  },
  {
   "cell_type": "code",
   "execution_count": 27,
   "id": "faf2c866",
   "metadata": {},
   "outputs": [
    {
     "name": "stdout",
     "output_type": "stream",
     "text": [
      "[-11210.16573454]\n"
     ]
    }
   ],
   "source": [
    "print(lreg.intercept_)"
   ]
  },
  {
   "cell_type": "code",
   "execution_count": null,
   "id": "4ab3c8cf",
   "metadata": {},
   "outputs": [],
   "source": []
  }
 ],
 "metadata": {
  "kernelspec": {
   "display_name": "Python 3 (ipykernel)",
   "language": "python",
   "name": "python3"
  },
  "language_info": {
   "codemirror_mode": {
    "name": "ipython",
    "version": 3
   },
   "file_extension": ".py",
   "mimetype": "text/x-python",
   "name": "python",
   "nbconvert_exporter": "python",
   "pygments_lexer": "ipython3",
   "version": "3.9.12"
  }
 },
 "nbformat": 4,
 "nbformat_minor": 5
}
